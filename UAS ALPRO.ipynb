{
 "cells": [
  {
   "cell_type": "code",
   "execution_count": null,
   "metadata": {},
   "outputs": [],
   "source": [
    "#Topik 1: Tipe Data dan Variabel\n",
    "nama = str(input(\"Masukkan nama siswa: \"))\n",
    "usia = int(input(\"Masukkan usia siswa: \"))\n",
    "nilai_ujian = float(input(\"Masukkan nilai ujian: \"))\n",
    "\n",
    "lulus = True if nilai_ujian >= 75 else False\n",
    "\n",
    "print(\"Data Siswa:\")\n",
    "print(\"Nama:\", nama)\n",
    "print(\"Usia:\", usia)\n",
    "print(\"Nilai Ujian:\", nilai_ujian)\n",
    "print(\"Lulus:\", lulus)"
   ]
  },
  {
   "cell_type": "code",
   "execution_count": null,
   "metadata": {},
   "outputs": [],
   "source": [
    "nilai = int(input(\"Masukkan nilai ujian siswa: \"))\n",
    "\n",
    "if nilai >= 75:\n",
    "    print(\"Lulus!\")\n",
    "else:\n",
    "    print(\"Tidak Lulus!\")\n",
    "\n",
    "jumlah_pengulangan = nilai // 10\n",
    "\n",
    "for i in range(jumlah_pengulangan):\n",
    "    print(\"Lulus!\")"
   ]
  },
  {
   "cell_type": "code",
   "execution_count": null,
   "metadata": {},
   "outputs": [],
   "source": [
    "def tambah_nilai(nilai_awal, nilai_tambah):\n",
    "    return nilai_awal + nilai_tambah\n",
    "\n",
    "def cek_kelulusan(nilai_total):\n",
    "    if nilai_total >= 75:\n",
    "        return \"Lulus\"\n",
    "    else:\n",
    "        return \"Tidak Lulus\"\n",
    "\n",
    "nilai_awal = float(input(\"Masukkan nilai awal siswa: \"))\n",
    "nilai_tambah = float(input(\"Masukkan nilai tambah ujian: \"))\n",
    "\n",
    "total_nilai = tambah_nilai(nilai_awal, nilai_tambah)\n",
    "\n",
    "status_kelulusan = cek_kelulusan(total_nilai)\n",
    "\n",
    "print(\"Total Nilai:\", total_nilai)\n",
    "print(\"Status Kelulusan:\", status_kelulusan)"
   ]
  },
  {
   "cell_type": "code",
   "execution_count": null,
   "metadata": {},
   "outputs": [],
   "source": [
    "nilai = []\n",
    "\n",
    "for i in range(5):\n",
    "    while True:\n",
    "        try:\n",
    "            nilai_siswa = int(input(f\"Masukkan nilai siswa ke-{i + 1}: \"))\n",
    "            nilai.append(nilai_siswa)\n",
    "            break\n",
    "        except ValueError:\n",
    "            print(\"Input tidak valid. Harap masukkan angka bulat.\")\n",
    "\n",
    "rata_rata = sum(nilai) / len(nilai)\n",
    "\n",
    "print(\"Rata-rata nilai ujian: {:.2f}\".format(rata_rata))\n",
    "\n",
    "print(\"Siswa yang nilainya di atas rata-rata:\")\n",
    "for i in range(len(nilai)):\n",
    "    if nilai[i] > rata_rata:\n",
    "        print(f\"Siswa {i + 1}: {nilai[i]}\")"
   ]
  },
  {
   "cell_type": "code",
   "execution_count": null,
   "metadata": {},
   "outputs": [],
   "source": [
    "nilai_ujian = [80, 90, 70, 85, 95]\n",
    "\n",
    "n = len(nilai_ujian)\n",
    "for i in range(n):\n",
    "    for j in range(0, n-i-1):\n",
    "        \n",
    "        if nilai_ujian[j] < nilai_ujian[j + 1]:\n",
    "            nilai_ujian[j], nilai_ujian[j + 1] = nilai_ujian[j + 1], nilai_ujian[j]\n",
    "\n",
    "print(\"Nilai ujian setelah diurutkan secara menurun:\")\n",
    "print(nilai_ujian)"
   ]
  }
 ],
 "metadata": {
  "kernelspec": {
   "display_name": "Python 3",
   "language": "python",
   "name": "python3"
  },
  "language_info": {
   "codemirror_mode": {
    "name": "ipython",
    "version": 3
   },
   "file_extension": ".py",
   "mimetype": "text/x-python",
   "name": "python",
   "nbconvert_exporter": "python",
   "pygments_lexer": "ipython3",
   "version": "3.12.6"
  }
 },
 "nbformat": 4,
 "nbformat_minor": 2
}
